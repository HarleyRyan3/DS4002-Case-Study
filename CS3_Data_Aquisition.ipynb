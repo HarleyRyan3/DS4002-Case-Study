{
 "cells": [
  {
   "cell_type": "code",
   "execution_count": null,
   "metadata": {},
   "outputs": [],
   "source": [
    "import pandas as pd\n",
    "from tqdm import tqdm as tqdm\n",
    "import numpy as np\n",
    "import matplotlib.pyplot as plt\n",
    "import cfbd\n",
    "\n",
    "import requests\n",
    "import requests.exceptions\n",
    "import re"
   ]
  },
  {
   "cell_type": "code",
   "execution_count": null,
   "metadata": {},
   "outputs": [],
   "source": [
    "#Establish your API key here. Make sure to go to collegefootballdata.com in order to sign up for the API key (it's free!)\n",
    "api_key = \"INSERT API KEY HERE\""
   ]
  },
  {
   "cell_type": "code",
   "execution_count": null,
   "metadata": {},
   "outputs": [],
   "source": [
    "#Create lists for later DFs. I have provided 2019 - 2024, but you can choose different years if you would like\n",
    "week_list = list(range(1,15))\n",
    "year_list = list(range(2019,2024))"
   ]
  },
  {
   "cell_type": "code",
   "execution_count": null,
   "metadata": {},
   "outputs": [],
   "source": [
    "#Create DF for Elo data that you will gather in the next step\n",
    "elo_df = pd.DataFrame()"
   ]
  },
  {
   "cell_type": "code",
   "execution_count": null,
   "metadata": {},
   "outputs": [],
   "source": [
    "#Use CFB Database to call in Elo data and modify DF. Elo is not necessary, but it is the best indicator of performance in my experience. If you choose to use another indicator of performance, make sure to keep things consistent.\n",
    "for j in year_list:\n",
    "    for i in week_list:\n",
    "        params = {\"year\":j,'week':i}\n",
    "        url = \"https://api.collegefootballdata.com/ratings/elo\"\n",
    "        headers = {\"Authorization\":api_key}\n",
    "        response = requests.request(\"GET\",url, headers=headers, params=params)\n",
    "        team_data = response.json()\n",
    "        week_df = pd.json_normalize(team_data)\n",
    "        week_df.insert(1,'week',i)\n",
    "        elo_df =pd.concat([elo_df, week_df])"
   ]
  },
  {
   "cell_type": "code",
   "execution_count": null,
   "metadata": {},
   "outputs": [],
   "source": [
    "#Create unique key for each team, season, and week. This is important, as you will need it to complete your analysis.\n",
    "elo_df.insert(3, 'uniqueKey', elo_df['team']+elo_df['year'].astype(str)+elo_df['week'].astype(str))"
   ]
  },
  {
   "cell_type": "code",
   "execution_count": null,
   "metadata": {},
   "outputs": [],
   "source": [
    "#Create media DF to determine what network games are played on.\n",
    "media_df = pd.DataFrame()"
   ]
  },
  {
   "cell_type": "code",
   "execution_count": null,
   "metadata": {},
   "outputs": [],
   "source": [
    "#Use CFB Database to call in media data and modify DF. Note the 'mediaType':'tv' which is necessary to avoid double counting games that were on multiple forms of media (ex: tv and streaming)\n",
    "for j in year_list:\n",
    "    params = {\"year\":j, 'seasonType':'regular', 'mediaType':'tv', 'classification':'fbs'}\n",
    "    url = \"https://api.collegefootballdata.com/games/media\"\n",
    "    headers = {\"Authorization\":api_key}\n",
    "    response = requests.request(\"GET\",url, headers=headers, params=params)\n",
    "    year_data = response.json()\n",
    "    year_df = pd.json_normalize(year_data)\n",
    "    media_df =pd.concat([media_df, year_df])"
   ]
  },
  {
   "cell_type": "code",
   "execution_count": null,
   "metadata": {},
   "outputs": [],
   "source": [
    "#Create unique keys for each team, season, and week, both home and away. These separate keys are important, as they are how you will include both home and away Elos and fans.\n",
    "media_df.insert(7,'homeUniqueKey',media_df['homeTeam']+media_df['season'].astype(str)+media_df['week'].astype(str))\n",
    "media_df.insert(10,'awayUniqueKey',media_df['awayTeam']+media_df['season'].astype(str)+media_df['week'].astype(str))"
   ]
  },
  {
   "cell_type": "code",
   "execution_count": null,
   "metadata": {},
   "outputs": [],
   "source": [
    "#Combine media and elo DFs for later use\n",
    "media_elo_df = pd.merge(media_df,elo_df[['elo','uniqueKey']],left_on='homeUniqueKey',right_on='uniqueKey',how='left')\n",
    "media_elo_df = media_elo_df.rename(columns={'elo':'homeElo'})\n",
    "media_elo_df = pd.merge(media_elo_df,elo_df[['elo','uniqueKey']],left_on='awayUniqueKey',right_on='uniqueKey',how='left')\n",
    "media_elo_df = media_elo_df.rename(columns={'elo':'awayElo'})\n",
    "media_elo_df =media_elo_df.drop(columns= ['uniqueKey_x','uniqueKey_y'])"
   ]
  },
  {
   "cell_type": "code",
   "execution_count": null,
   "metadata": {},
   "outputs": [],
   "source": [
    "#Define flagship networks\n",
    "flagship_networks = ['ESPN', 'ABC', 'CBS', 'NBC', 'Fox']"
   ]
  },
  {
   "cell_type": "code",
   "execution_count": null,
   "metadata": {},
   "outputs": [],
   "source": [
    "#Define P5 conferences\n",
    "P5_Conferences = ['ACC', 'SEC', 'Big Ten', 'Big 12', 'Pac-12']"
   ]
  },
  {
   "cell_type": "code",
   "execution_count": null,
   "metadata": {},
   "outputs": [],
   "source": [
    "#Bring in the output from the file on the GitHub. This file has Reddit flair data from r/CFB that was pulled separately\n",
    "fans_db = pd.read_csv(\"INSERT REDDIT DATA FILE HERE\")"
   ]
  },
  {
   "cell_type": "code",
   "execution_count": null,
   "metadata": {},
   "outputs": [],
   "source": [
    "#Merge the two DFs to perform analysis\n",
    "media_elo_fans_df = pd.merge(media_elo_df, fans_db[['Long Team', 'Flairs']], left_on= 'homeTeam', right_on='Long Team', how= 'left')\n",
    "media_elo_fans_df = media_elo_fans_df.rename(columns={\"Flairs\":'homeFlairs'})\n",
    "media_elo_fans_df = media_elo_fans_df.drop(columns=['Long Team'])\n",
    "media_elo_fans_df = pd.merge(media_elo_fans_df, fans_db[['Long Team', 'Flairs']], left_on= 'awayTeam', right_on='Long Team', how= 'left')\n",
    "media_elo_fans_df = media_elo_fans_df.rename(columns={\"Flairs\":'awayFlairs'})\n",
    "media_elo_fans_df = media_elo_fans_df.drop(columns=['Long Team'])"
   ]
  },
  {
   "cell_type": "code",
   "execution_count": null,
   "metadata": {},
   "outputs": [],
   "source": [
    "#From here you can run your own probit model. Included in the repo is some example code to show one model you could run, but you should play with the model to work with variables you might think are important."
   ]
  }
 ],
 "metadata": {
  "language_info": {
   "name": "python"
  }
 },
 "nbformat": 4,
 "nbformat_minor": 2
}
